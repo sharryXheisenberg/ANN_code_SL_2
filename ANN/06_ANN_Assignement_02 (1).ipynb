{
 "cells": [
  {
   "cell_type": "markdown",
   "id": "48d7c676",
   "metadata": {},
   "source": [
    "# Assignment 2\n",
    "### Name : Saurabh Rajesh Pande\n",
    "### Roll No : 2337006\n",
    "### Batch : A\n",
    "### Lab : Software Laboratory II(ANN)"
   ]
  },
  {
   "cell_type": "markdown",
   "id": "863798a3",
   "metadata": {},
   "source": [
    "# Problem Statement\n",
    "Generate ANDNOT function using McCulloch-Pitts neural net by a python program."
   ]
  },
  {
   "cell_type": "code",
   "execution_count": 1,
   "id": "d85e6dd3",
   "metadata": {},
   "outputs": [],
   "source": [
    "import numpy as np"
   ]
  },
  {
   "cell_type": "code",
   "execution_count": 2,
   "id": "601a03e0",
   "metadata": {},
   "outputs": [],
   "source": [
    "x1=[0,0,1,1]\n",
    "x2=[0,1,0,1]\n",
    "\n",
    "w1=1\n",
    "w2=1\n",
    "T=0.6"
   ]
  },
  {
   "cell_type": "code",
   "execution_count": 4,
   "id": "c4f66e77",
   "metadata": {},
   "outputs": [],
   "source": [
    "def McCullochPits(x1,x2,w1,w2,T):\n",
    "    andg=[]\n",
    "    for i in range(len(x1)):\n",
    "        wTx=x1[i]*w1+x2[i]*w2\n",
    "        actfunc=1/(1+np.exp(-wTx))\n",
    "        if actfunc>=T:\n",
    "            res=1\n",
    "            andg.append(res)\n",
    "        else:\n",
    "            res=0\n",
    "            andg.append(res)\n",
    "      \n",
    "    ng=[]\n",
    "    for i in range(len(andg)):\n",
    "        if andg[i]==0:\n",
    "            ng.append(1)\n",
    "        else:\n",
    "            ng.append(0)\n",
    "    return(ng)\n",
    "    "
   ]
  },
  {
   "cell_type": "code",
   "execution_count": 5,
   "id": "e7ae2d15",
   "metadata": {},
   "outputs": [
    {
     "data": {
      "text/plain": [
       "[1, 0, 0, 0]"
      ]
     },
     "execution_count": 5,
     "metadata": {},
     "output_type": "execute_result"
    }
   ],
   "source": [
    "McCullochPits(x1,x2,w1,w2,T)"
   ]
  },
  {
   "cell_type": "code",
   "execution_count": 1,
   "id": "ceee4f1b",
   "metadata": {},
   "outputs": [],
   "source": [
    "import numpy as np"
   ]
  },
  {
   "cell_type": "code",
   "execution_count": 8,
   "id": "ea1b578f",
   "metadata": {},
   "outputs": [],
   "source": [
    "x1 = [0,0,1,1]\n",
    "x2 = [0,1,0,1]\n",
    "w1 = 1\n",
    "w2 = 1\n",
    "T = 0.6\n"
   ]
  },
  {
   "cell_type": "code",
   "execution_count": 9,
   "id": "9af7814b",
   "metadata": {},
   "outputs": [],
   "source": [
    "def McCulloch_pitts(x1,x2,w1,w2,T):\n",
    "    andg = []\n",
    "    for i in range(len(x1)):\n",
    "        Wtx = x1[i]*w1 + x2[i]*w2\n",
    "        act_fun = 1/(1+np.exp(-Wtx))\n",
    "        \n",
    "        if act_fun>=T:\n",
    "            res=1\n",
    "            andg.append(res)\n",
    "        else:\n",
    "            res = 0\n",
    "            andg.append(res)\n",
    "        \n",
    "        \n",
    "    notg=[]\n",
    "    for i in range(len(andg)):\n",
    "        if andg[i]==0:\n",
    "            notg.append(1)\n",
    "        else:\n",
    "            notg.append(0)\n",
    "    \n",
    "    return notg\n"
   ]
  },
  {
   "cell_type": "code",
   "execution_count": 10,
   "id": "6363a94f",
   "metadata": {},
   "outputs": [
    {
     "data": {
      "text/plain": [
       "[1, 0, 0, 0]"
      ]
     },
     "execution_count": 10,
     "metadata": {},
     "output_type": "execute_result"
    }
   ],
   "source": [
    "McCulloch_pitts(x1,x2,w1,w2,T)"
   ]
  },
  {
   "cell_type": "code",
   "execution_count": null,
   "id": "d9a93928",
   "metadata": {},
   "outputs": [],
   "source": [
    "\n",
    "    "
   ]
  }
 ],
 "metadata": {
  "kernelspec": {
   "display_name": "Python 3 (ipykernel)",
   "language": "python",
   "name": "python3"
  },
  "language_info": {
   "codemirror_mode": {
    "name": "ipython",
    "version": 3
   },
   "file_extension": ".py",
   "mimetype": "text/x-python",
   "name": "python",
   "nbconvert_exporter": "python",
   "pygments_lexer": "ipython3",
   "version": "3.9.12"
  }
 },
 "nbformat": 4,
 "nbformat_minor": 5
}
