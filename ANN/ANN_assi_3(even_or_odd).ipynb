{
 "cells": [
  {
   "cell_type": "code",
   "execution_count": 1,
   "id": "e67dd781",
   "metadata": {},
   "outputs": [
    {
     "name": "stdout",
     "output_type": "stream",
     "text": [
      "Output After Training:\n",
      "[[0.00593252]\n",
      " [0.99624039]\n",
      " [0.00508582]\n",
      " [0.9956135 ]\n",
      " [0.00508525]\n",
      " [0.99561301]\n",
      " [0.00435894]\n",
      " [0.99488206]\n",
      " [0.00465894]\n",
      " [0.99521146]]\n",
      "0 is even\n",
      "1 is odd\n",
      "2 is even\n",
      "3 is odd\n",
      "4 is even\n",
      "5 is odd\n",
      "6 is even\n",
      "7 is odd\n",
      "8 is even\n",
      "9 is odd\n"
     ]
    }
   ],
   "source": [
    "import numpy as np\n",
    "\n",
    "def sigmoid(x):\n",
    "    return 1 / (1 + np.exp(-x))\n",
    "\n",
    "# Derivative of the sigmoid function for backpropagation\n",
    "def sigmoid_derivative(x):\n",
    "    return x * (1 - x)\n",
    "\n",
    "# ASCII values for numbers 0 to 9\n",
    "ascii_values = [ord(str(i)) for i in range(10)]\n",
    "\n",
    "# Convert ASCII values to binary\n",
    "binary_values = [format(i, '08b') for i in ascii_values]\n",
    "\n",
    "# Prepare the dataset\n",
    "X = np.array([list(map(int, i)) for i in binary_values])\n",
    "y = np.array([[i%2] for i in range(10)])\n",
    "\n",
    "# Initialize weights\n",
    "np.random.seed(1)\n",
    "weights = 2 * np.random.random((8, 1)) - 1\n",
    "\n",
    "# Training the Perceptron\n",
    "for iteration in range(10000):\n",
    "    input_layer = X\n",
    "    outputs = sigmoid(np.dot(input_layer, weights))\n",
    "\n",
    "    # Backpropagation\n",
    "    error = y - outputs\n",
    "    adjustments = error * sigmoid_derivative(outputs)\n",
    "    weights += np.dot(input_layer.T, adjustments)\n",
    "\n",
    "print(\"Output After Training:\")\n",
    "print(outputs)\n",
    "\n",
    "# Print the numbers and their outputs\n",
    "for i, o in zip(X, outputs):\n",
    "    # Convert the binary input to an ASCII value\n",
    "    ascii_value = int(\"\".join(map(str, i)), 2)\n",
    "    # Convert the ASCII value to a character\n",
    "    number = chr(ascii_value)\n",
    "    # Round the output to the nearest integer\n",
    "    output = int(round(o[0]))\n",
    "    # Print \"even\" or \"odd\" based on the output\n",
    "    if output == 0:\n",
    "        print(number, \"is even\")\n",
    "    else:\n",
    "        print(number, \"is odd\")\n"
   ]
  },
  {
   "cell_type": "code",
   "execution_count": 2,
   "id": "f64665e6",
   "metadata": {},
   "outputs": [],
   "source": [
    "import numpy as np"
   ]
  },
  {
   "cell_type": "code",
   "execution_count": 3,
   "id": "6bcb3e76",
   "metadata": {},
   "outputs": [],
   "source": [
    "def sigmoid(x):\n",
    "    return 1 / (1 + np.exp(-x))\n",
    "# Derivative of the sigmoid function for backpropagation\n",
    "def sigmoid_derivative(x):\n",
    "    return x * (1 - x)"
   ]
  },
  {
   "cell_type": "code",
   "execution_count": 4,
   "id": "43f89d22",
   "metadata": {},
   "outputs": [],
   "source": [
    "# ASCII values for numbers 0 to 9\n",
    "ascii_values = [ord(str(i)) for i in range(10)]\n",
    "binary_values = [format(i, '08b') for i in ascii_values]"
   ]
  },
  {
   "cell_type": "code",
   "execution_count": null,
   "id": "4ab8489d",
   "metadata": {},
   "outputs": [],
   "source": []
  },
  {
   "cell_type": "code",
   "execution_count": 5,
   "id": "fc3986de",
   "metadata": {},
   "outputs": [],
   "source": [
    "X = np.array([list(map(int, i)) for i in binary_values])\n",
    "y = np.array([[i%2] for i in range(10)])\n",
    "# what is the dimensions of the X and y\n",
    "np.random.seed(1)\n",
    "weights = 2 * np.random.random((8, 1)) - 1\n",
    "#what is the weights in this an array or other and also what it's dimension"
   ]
  },
  {
   "cell_type": "code",
   "execution_count": 6,
   "id": "1383b46c",
   "metadata": {},
   "outputs": [],
   "source": [
    "# Training the Perceptron\n",
    "for iteration in range(10000):\n",
    "    input_layer = X\n",
    "    outputs = sigmoid(np.dot(input_layer, weights))\n",
    "\n",
    "    # Backpropagation\n",
    "    error = y - outputs\n",
    "    adjustments = error * sigmoid_derivative(outputs)\n",
    "    weights += np.dot(input_layer.T, adjustments)\n",
    "\n",
    "# print(\"Output After Training:\")\n",
    "# print(outputs)"
   ]
  },
  {
   "cell_type": "code",
   "execution_count": 1,
   "id": "6d3ba036",
   "metadata": {},
   "outputs": [
    {
     "ename": "NameError",
     "evalue": "name 'X' is not defined",
     "output_type": "error",
     "traceback": [
      "\u001b[1;31m---------------------------------------------------------------------------\u001b[0m",
      "\u001b[1;31mNameError\u001b[0m                                 Traceback (most recent call last)",
      "Input \u001b[1;32mIn [1]\u001b[0m, in \u001b[0;36m<cell line: 2>\u001b[1;34m()\u001b[0m\n\u001b[0;32m      1\u001b[0m \u001b[38;5;66;03m# Print the numbers and their outputs\u001b[39;00m\n\u001b[1;32m----> 2\u001b[0m \u001b[38;5;28;01mfor\u001b[39;00m binary_input, output \u001b[38;5;129;01min\u001b[39;00m \u001b[38;5;28mzip\u001b[39m(\u001b[43mX\u001b[49m, outputs):\n\u001b[0;32m      3\u001b[0m     \u001b[38;5;66;03m# Convert binary input to decimal\u001b[39;00m\n\u001b[0;32m      4\u001b[0m     decimal_number \u001b[38;5;241m=\u001b[39m \u001b[38;5;28mint\u001b[39m(\u001b[38;5;124m'\u001b[39m\u001b[38;5;124m'\u001b[39m\u001b[38;5;241m.\u001b[39mjoin(\u001b[38;5;28mmap\u001b[39m(\u001b[38;5;28mstr\u001b[39m, binary_input)), \u001b[38;5;241m2\u001b[39m)\n\u001b[0;32m      6\u001b[0m     \u001b[38;5;66;03m# Determine if the number is even or odd\u001b[39;00m\n",
      "\u001b[1;31mNameError\u001b[0m: name 'X' is not defined"
     ]
    }
   ],
   "source": [
    "# Print the numbers and their outputs\n",
    "for binary_input, output in zip(X, outputs):\n",
    "    # Convert binary input to decimal\n",
    "    decimal_number = int(''.join(map(str, binary_input)), 2)\n",
    "    \n",
    "    # Determine if the number is even or odd\n",
    "    if round(output[0]) == 0:\n",
    "        print(f\"{decimal_number} is even\")\n",
    "    else:\n",
    "        print(f\"{decimal_number} is odd\")\n"
   ]
  },
  {
   "cell_type": "code",
   "execution_count": 2,
   "id": "85673b1a",
   "metadata": {},
   "outputs": [],
   "source": [
    "import numpy as np\n",
    "\n",
    "# Sigmoid activation function\n",
    "def sigmoid(x):\n",
    "    return 1 / (1 + np.exp(-x))\n",
    "\n",
    "# Derivative of the sigmoid function for backpropagation\n",
    "def sigmoid_derivative(x):\n",
    "    return x * (1 - x)\n",
    "\n",
    "# ASCII values for numbers 0 to 9\n"
   ]
  },
  {
   "cell_type": "code",
   "execution_count": 3,
   "id": "ab67356c",
   "metadata": {},
   "outputs": [],
   "source": [
    "ascii_values = [ord(str(i)) for i in range(10)]\n",
    "\n",
    "# Convert ASCII values to binary\n",
    "binary_values = [format(i, '08b') for i in ascii_values]\n",
    "\n",
    "# Prepare the dataset\n",
    "X = np.array([list(map(int, i)) for i in binary_values])\n",
    "y = np.array([[i%2] for i in range(10)])\n",
    "\n",
    "# Initialize weights\n",
    "np.random.seed(1)\n",
    "weights = 2 * np.random.random((8, 1)) - 1\n",
    "\n"
   ]
  },
  {
   "cell_type": "code",
   "execution_count": 4,
   "id": "2a7174e0",
   "metadata": {},
   "outputs": [],
   "source": [
    "# Training the Perceptron\n",
    "for iteration in range(10000):\n",
    "    input_layer = X\n",
    "    outputs = sigmoid(np.dot(input_layer, weights))\n",
    "\n",
    "    # Backpropagation\n",
    "    error = y - outputs\n",
    "    adjustments = error * sigmoid_derivative(outputs)\n",
    "    weights += np.dot(input_layer.T, adjustments)\n",
    "\n",
    "# print(\"Output After Training:\")\n",
    "# print(outputs)\n"
   ]
  },
  {
   "cell_type": "code",
   "execution_count": 5,
   "id": "43c756b6",
   "metadata": {},
   "outputs": [
    {
     "name": "stdout",
     "output_type": "stream",
     "text": [
      "0 is even\n",
      "1 is odd\n",
      "2 is even\n",
      "3 is odd\n",
      "4 is even\n",
      "5 is odd\n",
      "6 is even\n",
      "7 is odd\n",
      "8 is even\n",
      "9 is odd\n"
     ]
    }
   ],
   "source": [
    "\n",
    "# Print the numbers and their outputs\n",
    "for binary_input, output in zip(X, outputs):\n",
    "    # Convert binary input to decimal\n",
    "    decimal_number = int(''.join(map(str, binary_input)), 2)\n",
    "    number = chr(decimal_number)\n",
    "    # Determine if the number is even or odd\n",
    "    if round(output[0]) == 0:\n",
    "        print(f\"{number} is even\")\n",
    "    else:\n",
    "        print(f\"{number} is odd\")\n"
   ]
  },
  {
   "cell_type": "code",
   "execution_count": null,
   "id": "cc87f84d",
   "metadata": {},
   "outputs": [],
   "source": []
  }
 ],
 "metadata": {
  "kernelspec": {
   "display_name": "Python 3 (ipykernel)",
   "language": "python",
   "name": "python3"
  },
  "language_info": {
   "codemirror_mode": {
    "name": "ipython",
    "version": 3
   },
   "file_extension": ".py",
   "mimetype": "text/x-python",
   "name": "python",
   "nbconvert_exporter": "python",
   "pygments_lexer": "ipython3",
   "version": "3.9.12"
  }
 },
 "nbformat": 4,
 "nbformat_minor": 5
}
