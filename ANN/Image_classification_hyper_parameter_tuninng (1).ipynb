{
  "nbformat": 4,
  "nbformat_minor": 0,
  "metadata": {
    "colab": {
      "provenance": []
    },
    "kernelspec": {
      "name": "python3",
      "display_name": "Python 3"
    },
    "language_info": {
      "name": "python"
    }
  },
  "cells": [
    {
      "cell_type": "code",
      "execution_count": null,
      "metadata": {
        "id": "OFp6Edlz-PD4"
      },
      "outputs": [],
      "source": [
        "import tensorflow as tf\n",
        "from tensorflow.keras import layers, models, optimizers\n",
        "from tensorflow.keras.datasets import cifar10\n",
        "from tensorflow.keras.callbacks import LearningRateScheduler\n",
        "import matplotlib.pyplot as plt"
      ]
    },
    {
      "cell_type": "code",
      "source": [
        "# Load CIFAR-10 dataset\n",
        "(train_images, train_labels), (test_images, test_labels) = cifar10.load_data()\n",
        "\n",
        "# Normalize pixel values to be between 0 and 1\n",
        "train_images, test_images = train_images / 255.0, test_images / 255.0"
      ],
      "metadata": {
        "colab": {
          "base_uri": "https://localhost:8080/"
        },
        "id": "LVwnCeUD-bBO",
        "outputId": "527fd9c2-2aac-4652-932d-bc8927d678e0"
      },
      "execution_count": null,
      "outputs": [
        {
          "output_type": "stream",
          "name": "stdout",
          "text": [
            "Downloading data from https://www.cs.toronto.edu/~kriz/cifar-10-python.tar.gz\n",
            "170498071/170498071 [==============================] - 2s 0us/step\n"
          ]
        }
      ]
    },
    {
      "cell_type": "code",
      "source": [
        "def lr_scheduler(epoch, lr):\n",
        "    if epoch < 5:\n",
        "        return lr\n",
        "    else:\n",
        "        return lr * tf.math.exp(-0.1)\n",
        "\n",
        "# This function adjusts the learning rate based on the current epoch.\n",
        "# It keeps the initial learning rate for the first 5 epochs and then exponentially decays it."
      ],
      "metadata": {
        "id": "oBmd_Flp-rT1"
      },
      "execution_count": null,
      "outputs": []
    },
    {
      "cell_type": "code",
      "source": [
        "model = models.Sequential([\n",
        "    layers.Conv2D(32, (3, 3), activation='relu', input_shape=(32, 32, 3)),\n",
        "    layers.BatchNormalization(),#Normalize the activations of the previous layer at each batch.\n",
        "    layers.MaxPooling2D((2, 2)),\n",
        "    layers.Conv2D(64, (3, 3), activation='relu'),\n",
        "    layers.BatchNormalization(),\n",
        "    layers.MaxPooling2D((2, 2)),\n",
        "    layers.Conv2D(64, (3, 3), activation='relu'),\n",
        "    layers.BatchNormalization(),\n",
        "    layers.Flatten(),\n",
        "    layers.Dropout(0.5),\n",
        "    layers.Dense(64, activation='relu'), # Fully connected layer with 64 units and ReLU activation.\n",
        "    layers.Dense(10) # Fully connected output layer with 10 units (corresponding to 10 classes in CIFAR-10).\n",
        "\n",
        "])"
      ],
      "metadata": {
        "id": "koe_pS1E-0OY"
      },
      "execution_count": null,
      "outputs": []
    },
    {
      "cell_type": "code",
      "source": [
        "model.compile(optimizer=optimizers.Adam(learning_rate=0.001),\n",
        "              loss=tf.keras.losses.SparseCategoricalCrossentropy(from_logits=True),\n",
        "              metrics=['accuracy'])"
      ],
      "metadata": {
        "id": "rgxSp08c-4gD"
      },
      "execution_count": null,
      "outputs": []
    },
    {
      "cell_type": "code",
      "source": [
        "lr_scheduler_callback = LearningRateScheduler(lr_scheduler)"
      ],
      "metadata": {
        "id": "7pV498O2_XM-"
      },
      "execution_count": null,
      "outputs": []
    },
    {
      "cell_type": "code",
      "source": [
        "history = model.fit(train_images, train_labels, epochs=5,\n",
        "                    validation_data=(test_images, test_labels),\n",
        "                    callbacks=[lr_scheduler_callback])\n"
      ],
      "metadata": {
        "colab": {
          "base_uri": "https://localhost:8080/"
        },
        "id": "b1okHrwuABXk",
        "outputId": "a5205bb9-c667-463e-f604-f33e9de85a4c"
      },
      "execution_count": null,
      "outputs": [
        {
          "output_type": "stream",
          "name": "stdout",
          "text": [
            "Epoch 1/5\n",
            "1563/1563 [==============================] - 95s 61ms/step - loss: 1.1786 - accuracy: 0.5810 - val_loss: 1.2546 - val_accuracy: 0.5450 - lr: 0.0010\n",
            "Epoch 2/5\n",
            "1563/1563 [==============================] - 92s 59ms/step - loss: 1.0183 - accuracy: 0.6390 - val_loss: 1.0943 - val_accuracy: 0.6192 - lr: 0.0010\n",
            "Epoch 3/5\n",
            "1563/1563 [==============================] - 96s 61ms/step - loss: 0.9174 - accuracy: 0.6747 - val_loss: 1.0285 - val_accuracy: 0.6402 - lr: 0.0010\n",
            "Epoch 4/5\n",
            "1563/1563 [==============================] - 91s 58ms/step - loss: 0.8523 - accuracy: 0.6980 - val_loss: 0.8259 - val_accuracy: 0.7088 - lr: 0.0010\n",
            "Epoch 5/5\n",
            "1563/1563 [==============================] - 90s 57ms/step - loss: 0.8011 - accuracy: 0.7172 - val_loss: 1.2110 - val_accuracy: 0.6104 - lr: 0.0010\n"
          ]
        }
      ]
    },
    {
      "cell_type": "code",
      "source": [
        "test_loss, test_acc = model.evaluate(test_images, test_labels)\n",
        "print(f\"Test accuracy: {test_acc:.4f}\")"
      ],
      "metadata": {
        "colab": {
          "base_uri": "https://localhost:8080/"
        },
        "id": "_mzVXbjf_qJc",
        "outputId": "73cfed8e-8803-49cf-fc0f-549d2ef069ac"
      },
      "execution_count": null,
      "outputs": [
        {
          "output_type": "stream",
          "name": "stdout",
          "text": [
            "313/313 [==============================] - 5s 17ms/step - loss: 1.2110 - accuracy: 0.6104\n",
            "Test accuracy: 0.6104\n"
          ]
        }
      ]
    },
    {
      "cell_type": "code",
      "source": [
        "plt.plot(history.history['accuracy'], label='accuracy')\n",
        "plt.plot(history.history['val_accuracy'], label = 'val_accuracy')\n",
        "plt.xlabel('Epoch')\n",
        "plt.ylabel('Accuracy')\n",
        "plt.ylim([0, 1])\n",
        "plt.legend(loc='lower right')\n",
        "plt.show()"
      ],
      "metadata": {
        "colab": {
          "base_uri": "https://localhost:8080/",
          "height": 455
        },
        "id": "_vtCR5q0_0Rd",
        "outputId": "c42eb091-5e4d-40bd-a78c-defed4d56486"
      },
      "execution_count": null,
      "outputs": [
        {
          "output_type": "display_data",
          "data": {
            "text/plain": [
              "<Figure size 640x480 with 1 Axes>"
            ],
            "image/png": "[encoded data removed]"
          },
          "metadata": {}
        }
      ]
    },
    {
      "cell_type": "code",
      "source": [],
      "metadata": {
        "id": "PJWkOQ26CBZ7"
      },
      "execution_count": null,
      "outputs": []
    }
  ]
}