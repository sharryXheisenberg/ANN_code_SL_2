{
 "cells": [
  {
   "cell_type": "code",
   "execution_count": 2,
   "id": "f9b929d3",
   "metadata": {},
   "outputs": [],
   "source": [
    "import numpy as np"
   ]
  },
  {
   "cell_type": "code",
   "execution_count": 5,
   "id": "92cf7509",
   "metadata": {},
   "outputs": [
    {
     "name": "stdout",
     "output_type": "stream",
     "text": [
      "orignal vector [-1, -1, 1, 1]\n",
      "recalled vector [-1. -1.  1.  1.]\n",
      "\n",
      "orignal vector [1, 1, -1, -1]\n",
      "recalled vector [ 1.  1. -1. -1.]\n",
      "\n",
      "orignal vector [-1, 1, -1, 1]\n",
      "recalled vector [-1.  1. -1.  1.]\n",
      "\n",
      "orignal vector [1, -1, 1, -1]\n",
      "recalled vector [ 1. -1.  1. -1.]\n",
      "\n"
     ]
    }
   ],
   "source": [
    "class Hopfield:\n",
    "    def __init__(self,num_vectors , vector_size):\n",
    "        \n",
    "        self.num_vectors=num_vectors\n",
    "        self.vector_size=vector_size\n",
    "        self.wts = np.zeros((vector_size,vector_size))\n",
    "        \n",
    "        \n",
    "    def train(self,vectors):\n",
    "        for vec in vectors:\n",
    "            vec=np.array(vec).reshape(-1,1)\n",
    "            self.wts += np.dot(vec,vec.T)\n",
    "            np.fill_diagonal(self.wts,0)\n",
    "            \n",
    "    def recall(self,input_vector , epochs=100):\n",
    "        ip_vec = np.array(input_vector).reshape(-1,1)\n",
    "        for _ in range(epochs):\n",
    "            op_vec = np.sign(np.dot(self.wts, ip_vec))  # Corrected reference to ip_vec\n",
    "\n",
    "            if np.array_equal(op_vec,ip_vec):\n",
    "                return op_vec.flatten()\n",
    "            ip_vec=op_vec\n",
    "        return None\n",
    "    \n",
    "#example usage\n",
    "\n",
    "if __name__ == \"__main__\":\n",
    "    num_vectors=4\n",
    "    vector_size=4\n",
    "    \n",
    "    hop_net = Hopfield(num_vectors,vector_size)\n",
    "    \n",
    "    vectors = [[1,-1,1,-1],[-1,1,-1,1],[1,1,-1,-1],[-1,-1,1,1]] \n",
    "    \n",
    "    test_vectors = [[-1,-1,1,1] , [1,1,-1,-1] ,[-1,1,-1,1],[1,-1,1,-1]]\n",
    "              \n",
    "    hop_net.train(vectors)\n",
    "    \n",
    "    for vec in test_vectors:\n",
    "        recalled_vec = hop_net.recall(vec)\n",
    "        print(\"orignal vector\",vec)\n",
    "        print(\"recalled vector\",recalled_vec)\n",
    "        print()\n",
    "        \n",
    "        \n",
    "        "
   ]
  },
  {
   "cell_type": "code",
   "execution_count": null,
   "id": "d78b1bd4",
   "metadata": {},
   "outputs": [],
   "source": []
  }
 ],
 "metadata": {
  "kernelspec": {
   "display_name": "Python 3 (ipykernel)",
   "language": "python",
   "name": "python3"
  },
  "language_info": {
   "codemirror_mode": {
    "name": "ipython",
    "version": 3
   },
   "file_extension": ".py",
   "mimetype": "text/x-python",
   "name": "python",
   "nbconvert_exporter": "python",
   "pygments_lexer": "ipython3",
   "version": "3.9.12"
  }
 },
 "nbformat": 4,
 "nbformat_minor": 5
}
